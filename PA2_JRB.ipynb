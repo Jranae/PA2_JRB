{
 "cells": [
  {
   "cell_type": "markdown",
   "id": "f7d96b3a-020a-4abe-a03f-b21a25840fdb",
   "metadata": {},
   "source": [
    "Programming Assignment 2\n",
    "Jaleah Beason\n",
    "Version 1.0\n",
    "Spring 2024"
   ]
  },
  {
   "cell_type": "markdown",
   "id": "eaec7aae-8f6d-47c9-a39d-81871297eb37",
   "metadata": {},
   "source": [
    "###Problem 1 - Printing Numbers"
   ]
  },
  {
   "cell_type": "code",
   "execution_count": 3,
   "id": "57a4973c-b0f7-4962-b58e-e67c2935a06a",
   "metadata": {
    "tags": []
   },
   "outputs": [
    {
     "name": "stdout",
     "output_type": "stream",
     "text": [
      "0\n",
      "1\n",
      "2\n",
      "3\n",
      "4\n",
      "5\n",
      "6*\n",
      "7\n",
      "8\n",
      "9*\n",
      "10\n",
      "11\n",
      "12*\n",
      "13\n",
      "14\n",
      "15*\n",
      "16\n",
      "17\n",
      "18*\n",
      "19\n",
      "20\n",
      "21*\n",
      "22\n",
      "23\n",
      "24*\n",
      "25\n",
      "26\n",
      "27*\n",
      "28\n",
      "29\n",
      "30*\n",
      "31\n",
      "32\n",
      "33*\n",
      "34\n",
      "35\n",
      "36*\n",
      "37\n",
      "38\n",
      "39*\n",
      "40\n",
      "41\n",
      "42*\n",
      "43\n",
      "44\n",
      "45*\n",
      "46\n",
      "47\n",
      "48*\n",
      "49\n",
      "50\n",
      "51*\n",
      "52\n",
      "53\n",
      "54*\n",
      "55\n",
      "56\n",
      "57*\n",
      "58\n",
      "59\n",
      "60*\n",
      "61\n",
      "62\n",
      "63*\n",
      "64\n",
      "65\n",
      "66*\n",
      "67\n",
      "68\n",
      "69*\n",
      "70\n",
      "71\n",
      "72*\n",
      "73\n",
      "74\n",
      "75*\n",
      "76\n",
      "77\n",
      "78*\n",
      "79\n",
      "80\n",
      "81*\n",
      "82\n",
      "83\n",
      "84*\n",
      "85\n",
      "86\n",
      "87*\n",
      "88\n",
      "89\n",
      "90*\n",
      "91\n",
      "92\n",
      "93*\n",
      "94\n",
      "95\n",
      "96*\n",
      "97\n",
      "98\n",
      "99*\n",
      "100\n"
     ]
    }
   ],
   "source": [
    "for num in range(101):\n",
    "    if num % 3 == 0 and num != 0 and num !=3:\n",
    "        print(f'{num}*')\n",
    "    else: \n",
    "        print(num)"
   ]
  },
  {
   "cell_type": "markdown",
   "id": "efe9284e-7545-47e1-8320-7281bd9b78cf",
   "metadata": {},
   "source": [
    "###Problem 2 - Age Status"
   ]
  },
  {
   "cell_type": "code",
   "execution_count": null,
   "id": "5f27a6ca-c7a1-43fe-8564-2aede83014e7",
   "metadata": {
    "tags": []
   },
   "outputs": [],
   "source": [
    "while True:\n",
    "    try:\n",
    "        age = int(input(\"Enter an age (0 to stop): \"))\n",
    "        if age == 0:\n",
    "            print(\"Program Terminated.\")\n",
    "            break\n",
    "        if age < 18:\n",
    "            category = \"minor\"\n",
    "        elif 18 <= age <= 64:\n",
    "            category = \"adult\"\n",
    "        else: \n",
    "            category = \"senior citizen\"\n",
    "        print(f\"The person is a {category}.\\n\")\n",
    "    except ValueError:\n",
    "              print(\"Invalid input.Please enter a valid age as a number.\")"
   ]
  },
  {
   "cell_type": "markdown",
   "id": "3d0de258-6f94-46e6-9e82-0b37f5035dff",
   "metadata": {},
   "source": [
    "###Problem 3 - Age Status v2"
   ]
  },
  {
   "cell_type": "code",
   "execution_count": 14,
   "id": "7267d42e-d4fc-4400-a5f4-cd2bb0471e72",
   "metadata": {
    "tags": []
   },
   "outputs": [
    {
     "name": "stdout",
     "output_type": "stream",
     "text": [
      " 65 : senior citizen.\n",
      "\n",
      " 28 : adult.\n",
      "\n",
      " 34 : adult.\n",
      "\n",
      " 56 : adult.\n",
      "\n",
      " 12 : minor.\n",
      "\n",
      " 9 : minor.\n",
      "\n",
      " 43 : adult.\n",
      "\n",
      " 5 : minor.\n",
      "\n",
      " 69 : senior citizen.\n",
      "\n"
     ]
    }
   ],
   "source": [
    "ages = [65,28,34,56,12,9,43,5,69]\n",
    "\n",
    "for age in ages:\n",
    "    if age == 0:\n",
    "        print(f\"Age: {age} - Program terminated.\")\n",
    "        break\n",
    "    if age < 18:\n",
    "        category = \"minor\"\n",
    "    elif 18 <= age <= 64:\n",
    "            category = \"adult\"\n",
    "    else: \n",
    "            category = \"senior citizen\"\n",
    "    print(f\" {age} : {category}.\\n\")"
   ]
  },
  {
   "cell_type": "markdown",
   "id": "54227539-7fd7-47e3-b630-f561bebd59a2",
   "metadata": {},
   "source": [
    "###Problem 4 - Calculating Pi"
   ]
  },
  {
   "cell_type": "code",
   "execution_count": 19,
   "id": "479e515c-d321-40b4-83a2-6f4dcbd88463",
   "metadata": {
    "tags": []
   },
   "outputs": [
    {
     "name": "stdout",
     "output_type": "stream",
     "text": [
      "π=3.1315929035585537 using 100 terms. \n",
      "π=3.140592653839794 using 1000 terms. \n",
      "π=3.1414926535900345 using 10000 terms. \n",
      "π=3.1415826535897198 using 100000 terms. \n",
      "π=3.1415916535897743 using 1000000 terms. \n"
     ]
    }
   ],
   "source": [
    "import math\n",
    "\n",
    "iterations_list = [100,1000,10000,100000,1000000]\n",
    "\n",
    "for iterations in iterations_list:\n",
    "    pi_estimate = 0.0\n",
    "    i = 0\n",
    "    while i < iterations:\n",
    "        term = (-1) ** i / (2 * i + 1)\n",
    "        pi_estimate += term\n",
    "        i += 1\n",
    "    pi_estimate *= 4\n",
    "    \n",
    "    print(f\"π={pi_estimate} using {iterations} terms. \")"
   ]
  },
  {
   "cell_type": "code",
   "execution_count": null,
   "id": "bb71bf27-19d9-4f21-9c15-7a30f86c3b3d",
   "metadata": {},
   "outputs": [],
   "source": []
  }
 ],
 "metadata": {
  "kernelspec": {
   "display_name": "Python 3 (ipykernel)",
   "language": "python",
   "name": "python3"
  },
  "language_info": {
   "codemirror_mode": {
    "name": "ipython",
    "version": 3
   },
   "file_extension": ".py",
   "mimetype": "text/x-python",
   "name": "python",
   "nbconvert_exporter": "python",
   "pygments_lexer": "ipython3",
   "version": "3.11.5"
  }
 },
 "nbformat": 4,
 "nbformat_minor": 5
}
